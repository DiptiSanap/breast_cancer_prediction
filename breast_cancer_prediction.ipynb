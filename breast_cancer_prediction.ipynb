{
 "cells": [
  {
   "cell_type": "markdown",
   "id": "5858ea9e",
   "metadata": {},
   "source": [
    "# Breast cancer prediction using Machine learning techniques "
   ]
  },
  {
   "cell_type": "code",
   "execution_count": 1,
   "id": "644942f3",
   "metadata": {},
   "outputs": [],
   "source": [
    "#import necessary libraries\n",
    "import numpy as np\n",
    "import pandas as pd\n",
    "import matplotlib.pyplot as plt\n",
    "import matplotlib"
   ]
  },
  {
   "cell_type": "code",
   "execution_count": 2,
   "id": "ed4da643",
   "metadata": {},
   "outputs": [],
   "source": [
    "#load the dataset\n",
    "from sklearn.datasets import load_breast_cancer\n",
    "df=load_breast_cancer()"
   ]
  },
  {
   "cell_type": "code",
   "execution_count": 61,
   "id": "92cc3950",
   "metadata": {
    "scrolled": true
   },
   "outputs": [
    {
     "data": {
      "text/plain": [
       "array(['mean radius', 'mean texture', 'mean perimeter', 'mean area',\n",
       "       'mean smoothness', 'mean compactness', 'mean concavity',\n",
       "       'mean concave points', 'mean symmetry', 'mean fractal dimension',\n",
       "       'radius error', 'texture error', 'perimeter error', 'area error',\n",
       "       'smoothness error', 'compactness error', 'concavity error',\n",
       "       'concave points error', 'symmetry error',\n",
       "       'fractal dimension error', 'worst radius', 'worst texture',\n",
       "       'worst perimeter', 'worst area', 'worst smoothness',\n",
       "       'worst compactness', 'worst concavity', 'worst concave points',\n",
       "       'worst symmetry', 'worst fractal dimension'], dtype='<U23')"
      ]
     },
     "execution_count": 61,
     "metadata": {},
     "output_type": "execute_result"
    }
   ],
   "source": [
    "df.feature_names\n"
   ]
  },
  {
   "cell_type": "code",
   "execution_count": 69,
   "id": "7b5e3414",
   "metadata": {},
   "outputs": [
    {
     "data": {
      "text/plain": [
       "'malignant'"
      ]
     },
     "execution_count": 69,
     "metadata": {},
     "output_type": "execute_result"
    }
   ],
   "source": [
    "df.target_names\n"
   ]
  },
  {
   "cell_type": "code",
   "execution_count": 50,
   "id": "37db3cfb",
   "metadata": {
    "scrolled": true
   },
   "outputs": [
    {
     "data": {
      "text/plain": [
       "'.. _breast_cancer_dataset:\\n\\nBreast cancer wisconsin (diagnostic) dataset\\n--------------------------------------------\\n\\n**Data Set Characteristics:**\\n\\n    :Number of Instances: 569\\n\\n    :Number of Attributes: 30 numeric, predictive attributes and the class\\n\\n    :Attribute Information:\\n        - radius (mean of distances from center to points on the perimeter)\\n        - texture (standard deviation of gray-scale values)\\n        - perimeter\\n        - area\\n        - smoothness (local variation in radius lengths)\\n        - compactness (perimeter^2 / area - 1.0)\\n        - concavity (severity of concave portions of the contour)\\n        - concave points (number of concave portions of the contour)\\n        - symmetry\\n        - fractal dimension (\"coastline approximation\" - 1)\\n\\n        The mean, standard error, and \"worst\" or largest (mean of the three\\n        worst/largest values) of these features were computed for each image,\\n        resulting in 30 features.  For instance, field 0 is Mean Radius, field\\n        10 is Radius SE, field 20 is Worst Radius.\\n\\n        - class:\\n                - WDBC-Malignant\\n                - WDBC-Benign\\n\\n    :Summary Statistics:\\n\\n    ===================================== ====== ======\\n                                           Min    Max\\n    ===================================== ====== ======\\n    radius (mean):                        6.981  28.11\\n    texture (mean):                       9.71   39.28\\n    perimeter (mean):                     43.79  188.5\\n    area (mean):                          143.5  2501.0\\n    smoothness (mean):                    0.053  0.163\\n    compactness (mean):                   0.019  0.345\\n    concavity (mean):                     0.0    0.427\\n    concave points (mean):                0.0    0.201\\n    symmetry (mean):                      0.106  0.304\\n    fractal dimension (mean):             0.05   0.097\\n    radius (standard error):              0.112  2.873\\n    texture (standard error):             0.36   4.885\\n    perimeter (standard error):           0.757  21.98\\n    area (standard error):                6.802  542.2\\n    smoothness (standard error):          0.002  0.031\\n    compactness (standard error):         0.002  0.135\\n    concavity (standard error):           0.0    0.396\\n    concave points (standard error):      0.0    0.053\\n    symmetry (standard error):            0.008  0.079\\n    fractal dimension (standard error):   0.001  0.03\\n    radius (worst):                       7.93   36.04\\n    texture (worst):                      12.02  49.54\\n    perimeter (worst):                    50.41  251.2\\n    area (worst):                         185.2  4254.0\\n    smoothness (worst):                   0.071  0.223\\n    compactness (worst):                  0.027  1.058\\n    concavity (worst):                    0.0    1.252\\n    concave points (worst):               0.0    0.291\\n    symmetry (worst):                     0.156  0.664\\n    fractal dimension (worst):            0.055  0.208\\n    ===================================== ====== ======\\n\\n    :Missing Attribute Values: None\\n\\n    :Class Distribution: 212 - Malignant, 357 - Benign\\n\\n    :Creator:  Dr. William H. Wolberg, W. Nick Street, Olvi L. Mangasarian\\n\\n    :Donor: Nick Street\\n\\n    :Date: November, 1995\\n\\nThis is a copy of UCI ML Breast Cancer Wisconsin (Diagnostic) datasets.\\nhttps://goo.gl/U2Uwz2\\n\\nFeatures are computed from a digitized image of a fine needle\\naspirate (FNA) of a breast mass.  They describe\\ncharacteristics of the cell nuclei present in the image.\\n\\nSeparating plane described above was obtained using\\nMultisurface Method-Tree (MSM-T) [K. P. Bennett, \"Decision Tree\\nConstruction Via Linear Programming.\" Proceedings of the 4th\\nMidwest Artificial Intelligence and Cognitive Science Society,\\npp. 97-101, 1992], a classification method which uses linear\\nprogramming to construct a decision tree.  Relevant features\\nwere selected using an exhaustive search in the space of 1-4\\nfeatures and 1-3 separating planes.\\n\\nThe actual linear program used to obtain the separating plane\\nin the 3-dimensional space is that described in:\\n[K. P. Bennett and O. L. Mangasarian: \"Robust Linear\\nProgramming Discrimination of Two Linearly Inseparable Sets\",\\nOptimization Methods and Software 1, 1992, 23-34].\\n\\nThis database is also available through the UW CS ftp server:\\n\\nftp ftp.cs.wisc.edu\\ncd math-prog/cpo-dataset/machine-learn/WDBC/\\n\\n.. topic:: References\\n\\n   - W.N. Street, W.H. Wolberg and O.L. Mangasarian. Nuclear feature extraction \\n     for breast tumor diagnosis. IS&T/SPIE 1993 International Symposium on \\n     Electronic Imaging: Science and Technology, volume 1905, pages 861-870,\\n     San Jose, CA, 1993.\\n   - O.L. Mangasarian, W.N. Street and W.H. Wolberg. Breast cancer diagnosis and \\n     prognosis via linear programming. Operations Research, 43(4), pages 570-577, \\n     July-August 1995.\\n   - W.H. Wolberg, W.N. Street, and O.L. Mangasarian. Machine learning techniques\\n     to diagnose breast cancer from fine-needle aspirates. Cancer Letters 77 (1994) \\n     163-171.'"
      ]
     },
     "execution_count": 50,
     "metadata": {},
     "output_type": "execute_result"
    }
   ],
   "source": [
    "df.DESCR"
   ]
  },
  {
   "cell_type": "code",
   "execution_count": 3,
   "id": "f866dcb9",
   "metadata": {},
   "outputs": [],
   "source": [
    "#dependent and independent feature\n",
    "x=df.data\n",
    "y=df.target"
   ]
  },
  {
   "cell_type": "code",
   "execution_count": 4,
   "id": "79bfd6e7",
   "metadata": {},
   "outputs": [
    {
     "data": {
      "text/plain": [
       "array([[1.799e+01, 1.038e+01, 1.228e+02, ..., 2.654e-01, 4.601e-01,\n",
       "        1.189e-01],\n",
       "       [2.057e+01, 1.777e+01, 1.329e+02, ..., 1.860e-01, 2.750e-01,\n",
       "        8.902e-02],\n",
       "       [1.969e+01, 2.125e+01, 1.300e+02, ..., 2.430e-01, 3.613e-01,\n",
       "        8.758e-02],\n",
       "       ...,\n",
       "       [1.660e+01, 2.808e+01, 1.083e+02, ..., 1.418e-01, 2.218e-01,\n",
       "        7.820e-02],\n",
       "       [2.060e+01, 2.933e+01, 1.401e+02, ..., 2.650e-01, 4.087e-01,\n",
       "        1.240e-01],\n",
       "       [7.760e+00, 2.454e+01, 4.792e+01, ..., 0.000e+00, 2.871e-01,\n",
       "        7.039e-02]])"
      ]
     },
     "execution_count": 4,
     "metadata": {},
     "output_type": "execute_result"
    }
   ],
   "source": [
    "x"
   ]
  },
  {
   "cell_type": "code",
   "execution_count": 64,
   "id": "aa4bdf80",
   "metadata": {
    "scrolled": true
   },
   "outputs": [
    {
     "data": {
      "text/plain": [
       "array([2.057e+01, 1.777e+01, 1.329e+02, 1.326e+03, 8.474e-02, 7.864e-02,\n",
       "       8.690e-02, 7.017e-02, 1.812e-01, 5.667e-02, 5.435e-01, 7.339e-01,\n",
       "       3.398e+00, 7.408e+01, 5.225e-03, 1.308e-02, 1.860e-02, 1.340e-02,\n",
       "       1.389e-02, 3.532e-03, 2.499e+01, 2.341e+01, 1.588e+02, 1.956e+03,\n",
       "       1.238e-01, 1.866e-01, 2.416e-01, 1.860e-01, 2.750e-01, 8.902e-02])"
      ]
     },
     "execution_count": 64,
     "metadata": {},
     "output_type": "execute_result"
    }
   ],
   "source": [
    "x[1]"
   ]
  },
  {
   "cell_type": "code",
   "execution_count": 65,
   "id": "706a914d",
   "metadata": {},
   "outputs": [
    {
     "data": {
      "text/plain": [
       "0"
      ]
     },
     "execution_count": 65,
     "metadata": {},
     "output_type": "execute_result"
    }
   ],
   "source": [
    "y[1]"
   ]
  },
  {
   "cell_type": "code",
   "execution_count": 13,
   "id": "72f9ed4d",
   "metadata": {},
   "outputs": [
    {
     "data": {
      "text/plain": [
       "(569,)"
      ]
     },
     "execution_count": 13,
     "metadata": {},
     "output_type": "execute_result"
    }
   ],
   "source": [
    "x.shape\n",
    "y.shape"
   ]
  },
  {
   "cell_type": "code",
   "execution_count": 11,
   "id": "9bb6cf21",
   "metadata": {},
   "outputs": [],
   "source": [
    "# splitting dataset into train and test\n",
    "from sklearn.model_selection import train_test_split\n",
    "xtrain,xtest,ytrain,ytest=train_test_split(x,y,test_size=0.25,random_state=44)"
   ]
  },
  {
   "cell_type": "code",
   "execution_count": 16,
   "id": "2da8696b",
   "metadata": {},
   "outputs": [],
   "source": [
    "#Feature Scaling\n",
    "from sklearn.preprocessing import StandardScaler\n",
    "sc = StandardScaler()\n",
    "xtrain = sc.fit_transform(xtrain)\n",
    "xtest = sc.transform(xtest)"
   ]
  },
  {
   "cell_type": "markdown",
   "id": "401b15fe",
   "metadata": {},
   "source": [
    "# Apply algorithms\n",
    "here we will apply 7 algorithms and choose best one among all"
   ]
  },
  {
   "cell_type": "code",
   "execution_count": 41,
   "id": "53e4f3eb",
   "metadata": {},
   "outputs": [
    {
     "data": {
      "text/plain": [
       "RandomForestClassifier(criterion='entropy', n_estimators=10, random_state=5)"
      ]
     },
     "execution_count": 41,
     "metadata": {},
     "output_type": "execute_result"
    }
   ],
   "source": [
    "# #Using Logistic Regression Algorithm to the Training Set\n",
    "# from sklearn.linear_model import LogisticRegression\n",
    "# classifier1 = LogisticRegression(random_state = 18)\n",
    "# classifier1.fit(xtrain, ytrain)\n",
    "\n",
    "# #Using KNeighborsClassifier Method of neighbors class to use Nearest Neighbor algorithm\n",
    "# from sklearn.neighbors import KNeighborsClassifier\n",
    "# classifier2 = KNeighborsClassifier(n_neighbors = 5, metric = 'minkowski', p = 2)\n",
    "# classifier2.fit(xtrain, ytrain)\n",
    "\n",
    "# #Using SVC method of svm class to use Support Vector Machine Algorithm\n",
    "# from sklearn.svm import SVC\n",
    "# classifier3 = SVC(kernel = 'linear', random_state = 19)\n",
    "# classifier3.fit(xtrain, ytrain)\n",
    "\n",
    "# #Using SVC method of svm class to use Kernel SVM Algorithm\n",
    "# from sklearn.svm import SVC\n",
    "# classifier4 = SVC(kernel = 'rbf', random_state = 20)\n",
    "# classifier4.fit(xtrain, ytrain)\n",
    "\n",
    "# #Using GaussianNB method of naïve_bayes class to use Naïve Bayes Algorithm\n",
    "# from sklearn.naive_bayes import GaussianNB\n",
    "# classifier5 = GaussianNB()\n",
    "# classifier5.fit(xtrain, ytrain)\n",
    "\n",
    "# #Using DecisionTreeClassifier of tree class to use Decision Tree Algorithm\n",
    "# from sklearn.tree import DecisionTreeClassifier\n",
    "# classifier6 = DecisionTreeClassifier(criterion = 'entropy', random_state = 21)\n",
    "# classifier6.fit(xtrain, ytrain)\n",
    "\n",
    "# #Using RandomForestClassifier method of ensemble class to use Random Forest Classification algorithm\n",
    "# from sklearn.ensemble import RandomForestClassifier\n",
    "# classifier7 = RandomForestClassifier(n_estimators = 10, criterion = 'entropy', random_state = 5)\n",
    "# classifier7.fit(xtrain, ytrain)"
   ]
  },
  {
   "cell_type": "code",
   "execution_count": 42,
   "id": "03fda3d6",
   "metadata": {},
   "outputs": [],
   "source": [
    "#y_pred1=classifier1.predict(xtest)\n",
    "#y_pred2=classifier2.predict(xtest)\n",
    "#y_pred3=classifier3.predict(xtest)\n",
    "y_pred4=classifier4.predict(xtest)\n",
    "#y_pred5=classifier5.predict(xtest)\n",
    "#y_pred6=classifier6.predict(xtest)\n",
    "#y_pred7=classifier7.predict(xtest)"
   ]
  },
  {
   "cell_type": "code",
   "execution_count": 52,
   "id": "0e96e2d9",
   "metadata": {},
   "outputs": [
    {
     "data": {
      "text/plain": [
       "0.986013986013986"
      ]
     },
     "execution_count": 52,
     "metadata": {},
     "output_type": "execute_result"
    }
   ],
   "source": [
    "from sklearn.metrics import accuracy_score,confusion_matrix,recall_score\n",
    "acc1=accuracy_score(ytest,y_pred1) \n",
    "acc1\n",
    "\n",
    "acc2=accuracy_score(ytest,y_pred2)      \n",
    "acc2\n",
    "\n",
    "acc3=accuracy_score(ytest,y_pred3)         \n",
    "acc3\n",
    "\n",
    "acc4=accuracy_score(ytest,y_pred4)      \n",
    "acc4\n",
    "\n",
    "acc5=accuracy_score(ytest,y_pred5)        \n",
    "acc5\n",
    "\n",
    "acc6=accuracy_score(ytest,y_pred6)         \n",
    "acc6\n",
    "\n",
    "acc7=accuracy_score(ytest,y_pred7)              \n",
    "acc7"
   ]
  },
  {
   "cell_type": "code",
   "execution_count": 48,
   "id": "34d6f496",
   "metadata": {},
   "outputs": [
    {
     "data": {
      "text/plain": [
       "array([[47,  1],\n",
       "       [ 1, 94]], dtype=int64)"
      ]
     },
     "execution_count": 48,
     "metadata": {},
     "output_type": "execute_result"
    }
   ],
   "source": [
    "cm=confusion_matrix(ytest,y_pred4)\n",
    "cm"
   ]
  },
  {
   "cell_type": "code",
   "execution_count": 55,
   "id": "d7fc9a06",
   "metadata": {},
   "outputs": [],
   "source": [
    "r1=recall_score(ytest,y_pred1)\n",
    "r2=recall_score(ytest,y_pred2)\n",
    "r3=recall_score(ytest,y_pred3)\n",
    "r4=recall_score(ytest,y_pred4)\n",
    "r5=recall_score(ytest,y_pred5)\n",
    "r6=recall_score(ytest,y_pred6)\n",
    "r7=recall_score(ytest,y_pred7)"
   ]
  },
  {
   "cell_type": "code",
   "execution_count": 56,
   "id": "916250e0",
   "metadata": {},
   "outputs": [],
   "source": [
    "list1=['Logistic Reg','KNN','SVM(linear)','SVM(rbf)','Naive bayes','Decision tree','Random forest']\n",
    "list2=[acc1,acc2,acc3,acc4,acc5,acc6,acc7]\n",
    "list3=[r1,r2,r3,r4,r5,r6,r7]"
   ]
  },
  {
   "cell_type": "code",
   "execution_count": 45,
   "id": "edf86d4d",
   "metadata": {
    "scrolled": true
   },
   "outputs": [
    {
     "data": {
      "text/plain": [
       "[0.9790209790209791,\n",
       " 0.951048951048951,\n",
       " 0.972027972027972,\n",
       " 0.986013986013986,\n",
       " 0.951048951048951,\n",
       " 0.958041958041958,\n",
       " 0.965034965034965]"
      ]
     },
     "execution_count": 45,
     "metadata": {},
     "output_type": "execute_result"
    }
   ],
   "source": [
    "list2"
   ]
  },
  {
   "cell_type": "code",
   "execution_count": 57,
   "id": "72ab20ad",
   "metadata": {},
   "outputs": [
    {
     "data": {
      "text/plain": [
       "[0.9789473684210527,\n",
       " 0.9789473684210527,\n",
       " 0.9789473684210527,\n",
       " 0.9894736842105263,\n",
       " 0.968421052631579,\n",
       " 0.9578947368421052,\n",
       " 0.9578947368421052]"
      ]
     },
     "execution_count": 57,
     "metadata": {},
     "output_type": "execute_result"
    }
   ],
   "source": [
    "list3"
   ]
  },
  {
   "cell_type": "code",
   "execution_count": 58,
   "id": "c3334931",
   "metadata": {
    "scrolled": true
   },
   "outputs": [
    {
     "data": {
      "text/html": [
       "<div>\n",
       "<style scoped>\n",
       "    .dataframe tbody tr th:only-of-type {\n",
       "        vertical-align: middle;\n",
       "    }\n",
       "\n",
       "    .dataframe tbody tr th {\n",
       "        vertical-align: top;\n",
       "    }\n",
       "\n",
       "    .dataframe thead th {\n",
       "        text-align: right;\n",
       "    }\n",
       "</style>\n",
       "<table border=\"1\" class=\"dataframe\">\n",
       "  <thead>\n",
       "    <tr style=\"text-align: right;\">\n",
       "      <th></th>\n",
       "      <th>Model</th>\n",
       "      <th>Accuracy</th>\n",
       "      <th>recall score</th>\n",
       "    </tr>\n",
       "  </thead>\n",
       "  <tbody>\n",
       "    <tr>\n",
       "      <th>0</th>\n",
       "      <td>Logistic Reg</td>\n",
       "      <td>0.979021</td>\n",
       "      <td>0.978947</td>\n",
       "    </tr>\n",
       "    <tr>\n",
       "      <th>1</th>\n",
       "      <td>KNN</td>\n",
       "      <td>0.951049</td>\n",
       "      <td>0.978947</td>\n",
       "    </tr>\n",
       "    <tr>\n",
       "      <th>2</th>\n",
       "      <td>SVM(linear)</td>\n",
       "      <td>0.972028</td>\n",
       "      <td>0.978947</td>\n",
       "    </tr>\n",
       "    <tr>\n",
       "      <th>3</th>\n",
       "      <td>SVM(rbf)</td>\n",
       "      <td>0.986014</td>\n",
       "      <td>0.989474</td>\n",
       "    </tr>\n",
       "    <tr>\n",
       "      <th>4</th>\n",
       "      <td>Naive bayes</td>\n",
       "      <td>0.951049</td>\n",
       "      <td>0.968421</td>\n",
       "    </tr>\n",
       "    <tr>\n",
       "      <th>5</th>\n",
       "      <td>Decision tree</td>\n",
       "      <td>0.958042</td>\n",
       "      <td>0.957895</td>\n",
       "    </tr>\n",
       "    <tr>\n",
       "      <th>6</th>\n",
       "      <td>Random forest</td>\n",
       "      <td>0.965035</td>\n",
       "      <td>0.957895</td>\n",
       "    </tr>\n",
       "  </tbody>\n",
       "</table>\n",
       "</div>"
      ],
      "text/plain": [
       "           Model  Accuracy  recall score\n",
       "0   Logistic Reg  0.979021      0.978947\n",
       "1            KNN  0.951049      0.978947\n",
       "2    SVM(linear)  0.972028      0.978947\n",
       "3       SVM(rbf)  0.986014      0.989474\n",
       "4    Naive bayes  0.951049      0.968421\n",
       "5  Decision tree  0.958042      0.957895\n",
       "6  Random forest  0.965035      0.957895"
      ]
     },
     "execution_count": 58,
     "metadata": {},
     "output_type": "execute_result"
    }
   ],
   "source": [
    "# create a dataframe to compare all the results\n",
    "df1=pd.DataFrame({\"Model\":list1,\"Accuracy\":list2,\"recall score\":list3})\n",
    "df1"
   ]
  },
  {
   "cell_type": "markdown",
   "id": "614acc42",
   "metadata": {},
   "source": [
    "# conclusion: SVM with rbf kernel is best algorithm for given problem"
   ]
  },
  {
   "cell_type": "code",
   "execution_count": 60,
   "id": "b1ca26d7",
   "metadata": {},
   "outputs": [
    {
     "name": "stdout",
     "output_type": "stream",
     "text": [
      "SVC(random_state=20)\n"
     ]
    }
   ],
   "source": [
    "# store this model in pickle file  \n",
    "import pickle\n",
    "pickle.dump(classifier4, open('cancer_model.pkl', 'wb'))\n",
    "\n",
    "cancer_model = pickle.load(open('cancer_model.pkl', 'rb'))\n",
    "print(cancer_model)"
   ]
  },
  {
   "cell_type": "code",
   "execution_count": null,
   "id": "132024f8",
   "metadata": {},
   "outputs": [],
   "source": []
  }
 ],
 "metadata": {
  "kernelspec": {
   "display_name": "Python 3 (ipykernel)",
   "language": "python",
   "name": "python3"
  },
  "language_info": {
   "codemirror_mode": {
    "name": "ipython",
    "version": 3
   },
   "file_extension": ".py",
   "mimetype": "text/x-python",
   "name": "python",
   "nbconvert_exporter": "python",
   "pygments_lexer": "ipython3",
   "version": "3.9.12"
  }
 },
 "nbformat": 4,
 "nbformat_minor": 5
}
